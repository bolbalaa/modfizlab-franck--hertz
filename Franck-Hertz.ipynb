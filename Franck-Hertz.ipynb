{
 "cells": [
  {
   "cell_type": "code",
   "execution_count": 1,
   "metadata": {},
   "outputs": [
    {
     "name": "stdout",
     "output_type": "stream",
     "text": [
      "Populating the interactive namespace from numpy and matplotlib\n"
     ]
    }
   ],
   "source": [
    "%pylab inline\n",
    "import math"
   ]
  },
  {
   "cell_type": "markdown",
   "metadata": {},
   "source": [
    "# Ne"
   ]
  },
  {
   "cell_type": "markdown",
   "metadata": {},
   "source": [
    "## 1.45 V, 7.43 V"
   ]
  },
  {
   "cell_type": "code",
   "execution_count": 2,
   "metadata": {
    "collapsed": true
   },
   "outputs": [],
   "source": [
    "file1=open(\"2018-3-5-14.42_data_Ne.dat\")\n",
    "adatok1=file1.readlines()\n",
    "U21=[]\n",
    "I1=[]\n",
    "for sor in adatok1[8:]:\n",
    "    U21.append(float(sor[0:5]))\n",
    "    I1.append(float(sor[-10:-1]))"
   ]
  },
  {
   "cell_type": "code",
   "execution_count": 3,
   "metadata": {},
   "outputs": [],
   "source": [
    "maxi=0\n",
    "pos=[]\n",
    "kul=[]\n",
    "for i in range(len(I1)-1):\n",
    "    if I1[i]>=maxi:\n",
    "        maxi=I1[i]\n",
    "    else:\n",
    "        if ((maxi==I1[i-1]) and (I1[i]>I1[i+1])):\n",
    "            pos.append(U21[i])\n",
    "for j in range(len(pos)-1):\n",
    "    kul.append(pos[j+1]-pos[j])"
   ]
  },
  {
   "cell_type": "markdown",
   "metadata": {},
   "source": [
    "## 1.69 V, 7.44 V"
   ]
  },
  {
   "cell_type": "code",
   "execution_count": 4,
   "metadata": {
    "collapsed": true
   },
   "outputs": [],
   "source": [
    "file2=open(\"2018-3-5-14.47_data_Ne.dat\")\n",
    "adatok2=file2.readlines()\n",
    "U22=[]\n",
    "I2=[]\n",
    "for sor in adatok2[8:]:\n",
    "    U22.append(float(sor[0:5]))\n",
    "    I2.append(float(sor[-10:-1]))"
   ]
  },
  {
   "cell_type": "code",
   "execution_count": 5,
   "metadata": {},
   "outputs": [],
   "source": [
    "maxi=0\n",
    "pos=[]\n",
    "for i in range(len(I2)-1):\n",
    "    if I2[i]>=maxi:\n",
    "        maxi=I2[i]\n",
    "    else:\n",
    "        if ((maxi==I2[i-1]) and (I2[i]>I2[i+1])):\n",
    "            pos.append(U22[i])\n",
    "for j in range(len(pos)-1):\n",
    "    kul.append(pos[j+1]-pos[j])"
   ]
  },
  {
   "cell_type": "markdown",
   "metadata": {},
   "source": [
    "## 2.01 V, 7.44 V"
   ]
  },
  {
   "cell_type": "code",
   "execution_count": 6,
   "metadata": {
    "collapsed": true
   },
   "outputs": [],
   "source": [
    "file3=open(\"2018-3-5-14.54_data_Ne.dat\")\n",
    "adatok3=file3.readlines()\n",
    "U23=[]\n",
    "I3=[]\n",
    "for sor in adatok3[8:]:\n",
    "    U23.append(float(sor[0:5]))\n",
    "    I3.append(float(sor[-10:-1]))"
   ]
  },
  {
   "cell_type": "code",
   "execution_count": 7,
   "metadata": {},
   "outputs": [],
   "source": [
    "maxi=0\n",
    "pos=[]\n",
    "for i in range(len(I3)-1):\n",
    "    if I3[i]>=maxi:\n",
    "        maxi=I3[i]\n",
    "    else:\n",
    "        if ((maxi==I3[i-1]) and (I3[i]>I3[i+1])):\n",
    "            pos.append(U23[i])\n",
    "for j in range(len(pos)-1):\n",
    "    kul.append(pos[j+1]-pos[j])"
   ]
  },
  {
   "cell_type": "markdown",
   "metadata": {},
   "source": [
    "## 1.92 V, 7.81 V"
   ]
  },
  {
   "cell_type": "code",
   "execution_count": 8,
   "metadata": {
    "collapsed": true
   },
   "outputs": [],
   "source": [
    "file4=open(\"2018-3-5-14.58_data_Ne.dat\")\n",
    "adatok4=file4.readlines()\n",
    "U24=[]\n",
    "I4=[]\n",
    "for sor in adatok4[8:]:\n",
    "    U24.append(float(sor[0:5]))\n",
    "    I4.append(float(sor[-10:-1]))"
   ]
  },
  {
   "cell_type": "code",
   "execution_count": 9,
   "metadata": {},
   "outputs": [],
   "source": [
    "maxi=0\n",
    "pos=[]\n",
    "for i in range(len(I4)-1):\n",
    "    if I4[i]>=maxi:\n",
    "        maxi=I4[i]\n",
    "    else:\n",
    "        if ((maxi==I4[i-1]) and (I4[i]>I4[i+1])):\n",
    "            pos.append(U24[i])\n",
    "for j in range(len(pos)-1):\n",
    "    kul.append(pos[j+1]-pos[j])"
   ]
  },
  {
   "cell_type": "markdown",
   "metadata": {},
   "source": [
    "## 2.06 V, 8.22 V"
   ]
  },
  {
   "cell_type": "code",
   "execution_count": 10,
   "metadata": {
    "collapsed": true
   },
   "outputs": [],
   "source": [
    "file5=open(\"2018-3-5-15.2_data_Ne.dat\")\n",
    "adatok5=file5.readlines()\n",
    "U25=[]\n",
    "I5=[]\n",
    "for sor in adatok5[8:]:\n",
    "    U25.append(float(sor[0:5]))\n",
    "    I5.append(float(sor[-10:-1]))"
   ]
  },
  {
   "cell_type": "code",
   "execution_count": 11,
   "metadata": {},
   "outputs": [],
   "source": [
    "maxi=0\n",
    "pos=[]\n",
    "for i in range(len(I5)-1):\n",
    "    if I5[i]>=maxi:\n",
    "        maxi=I5[i]\n",
    "    else:\n",
    "        if ((maxi==I5[i-1]) and (I5[i]>I5[i+1])):\n",
    "            pos.append(U25[i])\n",
    "for j in range(len(pos)-1):\n",
    "    kul.append(pos[j+1]-pos[j])"
   ]
  },
  {
   "cell_type": "markdown",
   "metadata": {},
   "source": [
    "## 1.64 V, 8.22 V"
   ]
  },
  {
   "cell_type": "code",
   "execution_count": 12,
   "metadata": {
    "collapsed": true
   },
   "outputs": [],
   "source": [
    "file6=open(\"2018-3-5-15.10_data_Ne.dat\")\n",
    "adatok6=file6.readlines()\n",
    "U26=[]\n",
    "I6=[]\n",
    "for sor in adatok6[8:]:\n",
    "    U26.append(float(sor[0:5]))\n",
    "    I6.append(float(sor[-10:-1]))"
   ]
  },
  {
   "cell_type": "code",
   "execution_count": 13,
   "metadata": {},
   "outputs": [],
   "source": [
    "maxi=0\n",
    "pos=[]\n",
    "for i in range(len(I6)-1):\n",
    "    if I6[i]>=maxi:\n",
    "        maxi=I6[i]\n",
    "    else:\n",
    "        if ((maxi==I6[i-1]) and (I6[i]>I6[i+1])):\n",
    "            pos.append(U26[i])\n",
    "for j in range(len(pos)-1):\n",
    "    kul.append(pos[j+1]-pos[j])"
   ]
  },
  {
   "cell_type": "markdown",
   "metadata": {},
   "source": [
    "## 1.68 V, 7.79 V"
   ]
  },
  {
   "cell_type": "code",
   "execution_count": 14,
   "metadata": {
    "collapsed": true
   },
   "outputs": [],
   "source": [
    "file7=open(\"2018-3-5-15.15_data_Ne.dat\")\n",
    "adatok7=file7.readlines()\n",
    "U27=[]\n",
    "I7=[]\n",
    "for sor in adatok7[8:]:\n",
    "    U27.append(float(sor[0:5]))\n",
    "    I7.append(float(sor[-10:-1]))"
   ]
  },
  {
   "cell_type": "code",
   "execution_count": 15,
   "metadata": {},
   "outputs": [],
   "source": [
    "maxi=0\n",
    "pos=[]\n",
    "for i in range(len(I7)-1):\n",
    "    if I7[i]>=maxi:\n",
    "        maxi=I7[i]\n",
    "    else:\n",
    "        if ((maxi==I7[i-1]) and (I7[i]>I7[i+1])):\n",
    "            pos.append(U27[i])\n",
    "for j in range(len(pos)-1):\n",
    "    kul.append(pos[j+1]-pos[j])"
   ]
  },
  {
   "cell_type": "markdown",
   "metadata": {},
   "source": [
    "## 1.40 V, 7.79 V"
   ]
  },
  {
   "cell_type": "code",
   "execution_count": 16,
   "metadata": {
    "collapsed": true
   },
   "outputs": [],
   "source": [
    "file8=open(\"2018-3-5-15.25_data_Ne.dat\")\n",
    "adatok8=file8.readlines()\n",
    "U28=[]\n",
    "I8=[]\n",
    "for sor in adatok8[8:]:\n",
    "    U28.append(float(sor[0:5]))\n",
    "    I8.append(float(sor[-10:-1]))"
   ]
  },
  {
   "cell_type": "code",
   "execution_count": 17,
   "metadata": {},
   "outputs": [],
   "source": [
    "maxi=0\n",
    "pos=[]\n",
    "for i in range(len(I8)-1):\n",
    "    if I8[i]>=maxi:\n",
    "        maxi=I8[i]\n",
    "    else:\n",
    "        if ((maxi==I8[i-1]) and (I8[i]>I8[i+1])):\n",
    "            pos.append(U28[i])\n",
    "for j in range(len(pos)-1):\n",
    "    kul.append(pos[j+1]-pos[j])"
   ]
  },
  {
   "cell_type": "markdown",
   "metadata": {},
   "source": [
    "## 1.32 V, 8.21 V"
   ]
  },
  {
   "cell_type": "code",
   "execution_count": 18,
   "metadata": {
    "collapsed": true
   },
   "outputs": [],
   "source": [
    "file9=open(\"2018-3-5-15.33_data_Ne.dat\")\n",
    "adatok9=file9.readlines()\n",
    "U29=[]\n",
    "I9=[]\n",
    "for sor in adatok9[8:]:\n",
    "    U29.append(float(sor[0:5]))\n",
    "    I9.append(float(sor[-10:-1]))"
   ]
  },
  {
   "cell_type": "code",
   "execution_count": 19,
   "metadata": {},
   "outputs": [
    {
     "data": {
      "text/plain": [
       "[17.709999999999997,\n",
       " 19.18,\n",
       " 17.72,\n",
       " 19.18,\n",
       " 16.990000000000002,\n",
       " 20.67,\n",
       " 16.99,\n",
       " 20.68,\n",
       " 16.999999999999996,\n",
       " 20.67,\n",
       " 17.74,\n",
       " 19.93,\n",
       " 17.01,\n",
       " 19.93,\n",
       " 17.750000000000004,\n",
       " 19.189999999999998,\n",
       " 17.01,\n",
       " 20.669999999999995]"
      ]
     },
     "execution_count": 19,
     "metadata": {},
     "output_type": "execute_result"
    }
   ],
   "source": [
    "maxi=0\n",
    "pos=[]\n",
    "for i in range(len(I9)-1):\n",
    "    if I9[i]>=maxi:\n",
    "        maxi=I9[i]\n",
    "    else:\n",
    "        if ((maxi==I9[i-1]) and (I9[i]>I9[i+1])):\n",
    "            pos.append(U29[i])\n",
    "for j in range(len(pos)-1):\n",
    "    kul.append(pos[j+1]-pos[j])\n",
    "kul"
   ]
  },
  {
   "cell_type": "code",
   "execution_count": 20,
   "metadata": {},
   "outputs": [],
   "source": [
    "# kettesével vannak a listában az adatok a mérések szerint\n",
    "kul\n",
    "kul1=[]\n",
    "kul2=[]\n",
    "for i in range(int(len(kul)/2)):\n",
    "    kul1.append(kul[2*i])\n",
    "    kul2.append(kul[2*i+1])"
   ]
  },
  {
   "cell_type": "code",
   "execution_count": 21,
   "metadata": {
    "collapsed": true
   },
   "outputs": [],
   "source": [
    "c=299792458\n",
    "h=6.62607004*10**(-34)\n",
    "e=1.60217662*10**(-19)"
   ]
  },
  {
   "cell_type": "markdown",
   "metadata": {},
   "source": [
    "# <span style=\"color:red\">Eredmények</span>"
   ]
  },
  {
   "cell_type": "code",
   "execution_count": 22,
   "metadata": {},
   "outputs": [
    {
     "name": "stdout",
     "output_type": "stream",
     "text": [
      "Szükséges potenciál az első gerjesztéshez neonnál: 17.32 V +/- 0.36 V\n",
      "Irodalmi adat: 16.6 V\n",
      "\n",
      "Szükséges potenciál a második gerjesztéshez neonnál: 20.01 V +/- 0.65 V\n",
      "Irodalmi adat: 18.7 V\n",
      "\n",
      "https://en.wikipedia.org/wiki/Franck%E2%80%93Hertz_experiment#Franck%E2%80%93Hertz_experiment_with_neon\n",
      "\n",
      "Első gerjesztési energia: 2.78e-18 eV +/-.............\n",
      "\n",
      "Kisugárzott foton hullámhossza: 71.57 nm +/-.............\n",
      "\n",
      "Második gerjesztési energia: 3.21e-18 eV +/-...........\n",
      "\n",
      "Kisugárzott foton hullámhossza: 61.96 nm +/-.............\n",
      "\n"
     ]
    }
   ],
   "source": [
    "print(\"Szükséges potenciál az első gerjesztéshez neonnál:\",round(mean(kul1),2),\"V +/-\",round(std(kul1),2),\"V\")\n",
    "print(\"Irodalmi adat: 16.6 V\\n\")\n",
    "print(\"Szükséges potenciál a második gerjesztéshez neonnál:\",round(mean(kul2),2),\"V +/-\",round(std(kul2),2),\"V\")\n",
    "print(\"Irodalmi adat: 18.7 V\\n\")\n",
    "print(\"https://en.wikipedia.org/wiki/Franck%E2%80%93Hertz_experiment#Franck%E2%80%93Hertz_experiment_with_neon\\n\")\n",
    "print(\"Első gerjesztési energia:\",round(e*mean(kul1),20),\"eV +/-.............\\n\")\n",
    "print(\"Kisugárzott foton hullámhossza:\",round(c*h/e/mean(kul1)*10**(9),2),\"nm +/-.............\\n\")\n",
    "print(\"Második gerjesztési energia:\",round(e*mean(kul2),20),\"eV +/-...........\\n\")\n",
    "print(\"Kisugárzott foton hullámhossza:\",round(c*h/e/mean(kul2)*10**(9),2),\"nm +/-.............\\n\")"
   ]
  },
  {
   "cell_type": "code",
   "execution_count": 36,
   "metadata": {},
   "outputs": [
    {
     "data": {
      "text/plain": [
       "(0, 195)"
      ]
     },
     "execution_count": 36,
     "metadata": {},
     "output_type": "execute_result"
    },
    {
     "data": {
      "image/png": "[encoded data removed]",
      "text/plain": [
       "<matplotlib.figure.Figure at 0x17f41cf75f8>"
      ]
     },
     "metadata": {},
     "output_type": "display_data"
    }
   ],
   "source": [
    "suptitle(r\"Neon\", fontsize=22)\n",
    "\n",
    "subplot(3,3,1)\n",
    "plot(U21,I1,'o', markersize=2)\n",
    "figsize(20,20)\n",
    "xlabel(r'$I_a\\ [nA]$', fontsize=14)\n",
    "ylabel(r'$U_2\\ [V]$', fontsize=14)\n",
    "title(r\"$U_1=1.45\\ V$, $U_3=7.43\\ V$\", fontsize=18)\n",
    "ylim(0,195)\n",
    "\n",
    "subplot(3,3,2)\n",
    "plot(U22,I2,'o', markersize=2)\n",
    "xlabel(r'$I_a\\ [nA]$', fontsize=14)\n",
    "ylabel(r'$U_2\\ [V]$', fontsize=14)\n",
    "title(r\"$U_1=1.69\\ V$, $U_3=7.44\\ V$\", fontsize=18)\n",
    "ylim(0,195)\n",
    "\n",
    "subplot(3,3,3)\n",
    "plot(U23,I3,'o', markersize=2)\n",
    "xlabel(r'$I_a\\ [nA]$', fontsize=14)\n",
    "ylabel(r'$U_2\\ [V]$', fontsize=14)\n",
    "title(r\"$U_1=2.01\\ V$, $U_3=7.44\\ V$\", fontsize=18)\n",
    "ylim(0,195)\n",
    "\n",
    "subplot(3,3,6)\n",
    "plot(U24,I4,'o', markersize=2)\n",
    "xlabel(r'$I_a\\ [nA]$', fontsize=14)\n",
    "ylabel(r'$U_2\\ [V]$', fontsize=14)\n",
    "title(r\"$U_1=1.92\\ V$, $U_3=7.81\\ V$\", fontsize=18)\n",
    "ylim(0,195)\n",
    "\n",
    "subplot(3,3,9)\n",
    "plot(U25,I5,'o', markersize=2)\n",
    "xlabel(r'$I_a\\ [nA]$', fontsize=14)\n",
    "ylabel(r'$U_2\\ [V]$', fontsize=14)\n",
    "title(r'$U_1=2.06\\ V$, $U_3=8.22\\ V$', fontsize=18)\n",
    "ylim(0,195)\n",
    "\n",
    "subplot(3,3,8)\n",
    "plot(U26,I6,'o', markersize=2)\n",
    "xlabel(r'$I_a\\ [nA]$', fontsize=14)\n",
    "ylabel(r'$U_2\\ [V]$', fontsize=14)\n",
    "title(r'$U_1=1.64\\ V$, $U_3=8.22\\ V$', fontsize=18)\n",
    "ylim(0,195)\n",
    "\n",
    "subplot(3,3,5)\n",
    "plot(U27,I7,'o', markersize=2)\n",
    "xlabel(r'$I_a\\ [nA]$', fontsize=14)\n",
    "ylabel(r'$U_2\\ [V]$', fontsize=14)\n",
    "title(r'$U_1=1.68\\ V$, $U_3=7.79\\ V$', fontsize=18)\n",
    "ylim(0,195)\n",
    "\n",
    "subplot(3,3,4)\n",
    "plot(U28,I8,'o', markersize=2)\n",
    "xlabel(r'$I_a\\ [nA]$', fontsize=14)\n",
    "ylabel(r'$U_2\\ [V]$', fontsize=14)\n",
    "title(r'$U_1=1.40\\ V$, $U_3=7.79\\ V$', fontsize=18)\n",
    "ylim(0,195)\n",
    "\n",
    "subplot(3,3,7)\n",
    "plot(U29,I9,'o', markersize=2)\n",
    "xlabel(r'$I_a\\ [nA]$', fontsize=14)\n",
    "ylabel(r'$U_2\\ [V]$', fontsize=14)\n",
    "title(r'$U_1=1.32\\ V$, $U_3=8.21\\ V$', fontsize=18)\n",
    "ylim(0,195)\n",
    "\n",
    "#savefig('neon.png')"
   ]
  },
  {
   "cell_type": "markdown",
   "metadata": {},
   "source": [
    "# Hg"
   ]
  },
  {
   "cell_type": "markdown",
   "metadata": {},
   "source": [
    "## 6.81 V, 1.12 V"
   ]
  },
  {
   "cell_type": "code",
   "execution_count": 24,
   "metadata": {
    "collapsed": true
   },
   "outputs": [],
   "source": [
    "file10=open(\"2018-3-5-15.48_data_Hg.dat\")\n",
    "adatok10=file10.readlines()\n",
    "U210=[]\n",
    "I10=[]\n",
    "for sor in adatok10[8:]:\n",
    "    U210.append(float(sor[0:5]))\n",
    "    I10.append(float(sor[-10:-1]))"
   ]
  },
  {
   "cell_type": "code",
   "execution_count": 25,
   "metadata": {},
   "outputs": [],
   "source": [
    "maxi=0\n",
    "pos=[]\n",
    "kulH=[]\n",
    "for i in range(len(I10)-1):\n",
    "    if I10[i]>=maxi:\n",
    "        maxi=I10[i]\n",
    "    else:\n",
    "        if ((maxi==I10[i-1]) and (I10[i]>I10[i+1])):\n",
    "            pos.append(U210[i])\n",
    "for j in range(2):\n",
    "    kulH.append(pos[j+1]-pos[j])"
   ]
  },
  {
   "cell_type": "markdown",
   "metadata": {},
   "source": [
    "## 6.82 V, 1.52 V"
   ]
  },
  {
   "cell_type": "code",
   "execution_count": 26,
   "metadata": {
    "collapsed": true
   },
   "outputs": [],
   "source": [
    "file11=open(\"2018-3-5-15.52_data_Hg.dat\")\n",
    "adatok11=file11.readlines()\n",
    "U211=[]\n",
    "I11=[]\n",
    "for sor in adatok11[8:]:\n",
    "    U211.append(float(sor[0:5]))\n",
    "    I11.append(float(sor[-10:-1]))"
   ]
  },
  {
   "cell_type": "code",
   "execution_count": 27,
   "metadata": {},
   "outputs": [],
   "source": [
    "maxi=0\n",
    "pos=[]\n",
    "for i in range(len(I11)-1):\n",
    "    if I11[i]>=maxi:\n",
    "        maxi=I11[i]\n",
    "    else:\n",
    "        if ((maxi==I11[i-1]) and (I11[i]>I11[i+1])):\n",
    "            pos.append(U211[i])\n",
    "for j in range(2):\n",
    "    kulH.append(pos[j+1]-pos[j])"
   ]
  },
  {
   "cell_type": "markdown",
   "metadata": {},
   "source": [
    "## 6.83 V, 1.91 V"
   ]
  },
  {
   "cell_type": "code",
   "execution_count": 28,
   "metadata": {
    "collapsed": true
   },
   "outputs": [],
   "source": [
    "file12=open(\"2018-3-5-15.56_data_Hg.dat\")\n",
    "adatok12=file12.readlines()\n",
    "U212=[]\n",
    "I12=[]\n",
    "for sor in adatok12[8:]:\n",
    "    U212.append(float(sor[0:5]))\n",
    "    I12.append(float(sor[-10:-1]))"
   ]
  },
  {
   "cell_type": "code",
   "execution_count": 29,
   "metadata": {},
   "outputs": [],
   "source": [
    "maxi=0\n",
    "pos=[]\n",
    "for i in range(len(I12)-1):\n",
    "    if I12[i]>=maxi:\n",
    "        maxi=I12[i]\n",
    "    else:\n",
    "        if ((maxi==I12[i-1]) and (I12[i]>I12[i+1])):\n",
    "            pos.append(U212[i])\n",
    "for j in range(2):\n",
    "    kulH.append(pos[j+1]-pos[j])"
   ]
  },
  {
   "cell_type": "markdown",
   "metadata": {},
   "source": [
    "## 7.39 V, 1.91 V"
   ]
  },
  {
   "cell_type": "code",
   "execution_count": 30,
   "metadata": {
    "collapsed": true
   },
   "outputs": [],
   "source": [
    "file13=open(\"2018-3-5-15.59_data_Hg.dat\")\n",
    "adatok13=file13.readlines()\n",
    "U213=[]\n",
    "I13=[]\n",
    "for sor in adatok13[8:]:\n",
    "    U213.append(float(sor[0:5]))\n",
    "    I13.append(float(sor[-10:-1]))"
   ]
  },
  {
   "cell_type": "code",
   "execution_count": 31,
   "metadata": {},
   "outputs": [],
   "source": [
    "maxi=0\n",
    "pos=[]\n",
    "for i in range(len(I13)-1):\n",
    "    if I13[i]>=maxi:\n",
    "        maxi=I13[i]\n",
    "    else:\n",
    "        if ((maxi==I13[i-1]) and (I13[i]>I13[i+1])):\n",
    "            pos.append(U213[i])\n",
    "for j in range(2):\n",
    "    kulH.append(pos[j+1]-pos[j])"
   ]
  },
  {
   "cell_type": "markdown",
   "metadata": {},
   "source": [
    "## 7.98 V, 1.91 V"
   ]
  },
  {
   "cell_type": "code",
   "execution_count": 32,
   "metadata": {
    "collapsed": true
   },
   "outputs": [],
   "source": [
    "file14=open(\"2018-3-5-16.3_data_Hg.dat\")\n",
    "adatok14=file14.readlines()\n",
    "U214=[]\n",
    "I14=[]\n",
    "for sor in adatok14[8:]:\n",
    "    U214.append(float(sor[0:5]))\n",
    "    I14.append(float(sor[-10:-1]))"
   ]
  },
  {
   "cell_type": "code",
   "execution_count": 33,
   "metadata": {},
   "outputs": [
    {
     "data": {
      "text/plain": [
       "[4.139999999999999,\n",
       " 5.030000000000001,\n",
       " 5.03,\n",
       " 4.73,\n",
       " 4.74,\n",
       " 5.029999999999999,\n",
       " 4.74,\n",
       " 5.029999999999999,\n",
       " 5.030000000000001,\n",
       " 5.02]"
      ]
     },
     "execution_count": 33,
     "metadata": {},
     "output_type": "execute_result"
    }
   ],
   "source": [
    "maxi=0\n",
    "pos=[]\n",
    "for i in range(len(I14)-1):\n",
    "    if I14[i]>=maxi:\n",
    "        maxi=I14[i]\n",
    "    else:\n",
    "        if ((maxi==I14[i-1]) and (I14[i]>I14[i+1])):\n",
    "            pos.append(U214[i])\n",
    "for j in range(2):\n",
    "    kulH.append(pos[j+1]-pos[j])\n",
    "kulH"
   ]
  },
  {
   "cell_type": "markdown",
   "metadata": {},
   "source": [
    "#  <span style=\"color:red\">Eredmények</span>"
   ]
  },
  {
   "cell_type": "code",
   "execution_count": 34,
   "metadata": {},
   "outputs": [
    {
     "name": "stdout",
     "output_type": "stream",
     "text": [
      "Első gerjesztési potenciál higanynál: 4.852 V +/- 0.270843128028 V\n",
      "Irodalmi adat: 4.9 V\n",
      "\n",
      "http://hyperphysics.phy-astr.gsu.edu/hbase/FrHz.html#FHd\n",
      "\n",
      "Első gerjesztési energia: 7.8e-19 eV +/-.............\n",
      "\n",
      "Kisugárzott foton hullámhossza: 255.53 nm +/-.............\n",
      "\n"
     ]
    }
   ],
   "source": [
    "print(\"Első gerjesztési potenciál higanynál:\",mean(kulH),\"V +/-\",std(kulH),\"V\")\n",
    "print(\"Irodalmi adat: 4.9 V\\n\")\n",
    "print(\"http://hyperphysics.phy-astr.gsu.edu/hbase/FrHz.html#FHd\\n\")\n",
    "print(\"Első gerjesztési energia:\",round(e*mean(kulH),20),\"eV +/-.............\\n\")\n",
    "print(\"Kisugárzott foton hullámhossza:\",round(c*h/e/mean(kulH)*10**(9),2),\"nm +/-.............\\n\")"
   ]
  },
  {
   "cell_type": "code",
   "execution_count": 35,
   "metadata": {},
   "outputs": [
    {
     "data": {
      "text/plain": [
       "(0, 16)"
      ]
     },
     "execution_count": 35,
     "metadata": {},
     "output_type": "execute_result"
    },
    {
     "data": {
      "image/png": "[encoded data removed]",
      "text/plain": [
       "<matplotlib.figure.Figure at 0x17f41bf2f60>"
      ]
     },
     "metadata": {},
     "output_type": "display_data"
    }
   ],
   "source": [
    "suptitle(r\"Higany\", fontsize=22)\n",
    "\n",
    "subplot(3,2,1)\n",
    "plot(U210,I10,'o', markersize=2)\n",
    "figsize(20,20)\n",
    "xlabel(r'$I_a\\ [nA]$', fontsize=14)\n",
    "ylabel(r'$U_2\\ [V]$', fontsize=14)\n",
    "title(r\"$U_1=6.81\\ V$, $U_3=1.12\\ V$\", fontsize=18)\n",
    "ylim(0,16)\n",
    "\n",
    "subplot(3,2,2)\n",
    "plot(U211,I11,'o', markersize=2)\n",
    "xlabel(r'$I_a\\ [nA]$', fontsize=14)\n",
    "ylabel(r'$U_2\\ [V]$', fontsize=14)\n",
    "title(r\"$U_1=6.82\\ V$, $U_3=1.52\\ V$\", fontsize=18)\n",
    "ylim(0,16)\n",
    "\n",
    "subplot(3,2,3)\n",
    "plot(U212,I12,'o', markersize=2)\n",
    "xlabel(r'$I_a\\ [nA]$', fontsize=14)\n",
    "ylabel(r'$U_2\\ [V]$', fontsize=14)\n",
    "title(r\"$U_1=6.83\\ V$, $U_3=1.91\\ V$\", fontsize=18)\n",
    "ylim(0,16)\n",
    "\n",
    "subplot(3,2,4)\n",
    "plot(U213,I13,'o', markersize=2)\n",
    "xlabel(r'$I_a\\ [nA]$', fontsize=14)\n",
    "ylabel(r'$U_2\\ [V]$', fontsize=14)\n",
    "title(r\"$U_1=7.39\\ V$, $U_3=1.91\\ V$\", fontsize=18)\n",
    "ylim(0,16)\n",
    "\n",
    "subplot(3,2,5)\n",
    "plot(U214,I14,'o', markersize=2)\n",
    "xlabel(r'$I_a\\ [nA]$', fontsize=14)\n",
    "ylabel(r'$U_2\\ [V]$', fontsize=14)\n",
    "title(r'$U_1=7.98\\ V$, $U_3=1.91\\ V$', fontsize=18)\n",
    "ylim(0,16)\n",
    "\n",
    "#savefig('higany.png')"
   ]
  },
  {
   "cell_type": "code",
   "execution_count": null,
   "metadata": {
    "collapsed": true
   },
   "outputs": [],
   "source": []
  }
 ],
 "metadata": {
  "kernelspec": {
   "display_name": "Python 3",
   "language": "python",
   "name": "python3"
  },
  "language_info": {
   "codemirror_mode": {
    "name": "ipython",
    "version": 3
   },
   "file_extension": ".py",
   "mimetype": "text/x-python",
   "name": "python",
   "nbconvert_exporter": "python",
   "pygments_lexer": "ipython3",
   "version": "3.6.3"
  }
 },
 "nbformat": 4,
 "nbformat_minor": 2
}
